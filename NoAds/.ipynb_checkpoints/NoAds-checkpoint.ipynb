{
 "cells": [
  {
   "cell_type": "markdown",
   "metadata": {},
   "source": [
    "## A scraper of main information from some newspaper websites."
   ]
  },
  {
   "cell_type": "code",
   "execution_count": 1,
   "metadata": {},
   "outputs": [],
   "source": [
    "#\n",
    "# import libraries\n",
    "#\n",
    "\n",
    "#\n",
    "# general usage\n",
    "#\n",
    "import json\n",
    "import time\n",
    "from datetime import datetime\n",
    "\n",
    "#\n",
    "# local files\n",
    "#\n",
    "import functions.connect_firebase  as cf # connecting to the online database\n",
    "import functions.store_parsed      as sp\n",
    "import functions.clean_text        as cln\n",
    "import functions.draw_wordcloud    as dw\n",
    "import functions.analyze_sentiment as an\n"
   ]
  },
  {
   "cell_type": "code",
   "execution_count": 2,
   "metadata": {},
   "outputs": [],
   "source": [
    "#\n",
    "# Constants\n",
    "#\n",
    "with open('data/constants.json', encoding='utf-8') as data_file:\n",
    "    cnsts = json.loads(data_file.read())\n",
    "config      = cnsts['config']\n",
    "information = cnsts['information']\n",
    "headers     = cnsts['headers']"
   ]
  },
  {
   "cell_type": "markdown",
   "metadata": {},
   "source": [
    "### Connect to Database\n",
    "In this case we are using Firebase. \n",
    "ElasticSearch can be used too in case the setup has been done and it is running."
   ]
  },
  {
   "cell_type": "code",
   "execution_count": 3,
   "metadata": {
    "scrolled": false
   },
   "outputs": [],
   "source": [
    "database, storage = cf.connect_firebase(config)\n",
    "#print(database.get())"
   ]
  },
  {
   "cell_type": "markdown",
   "metadata": {},
   "source": [
    "### Parse and store in Firebase"
   ]
  },
  {
   "cell_type": "code",
   "execution_count": 4,
   "metadata": {},
   "outputs": [
    {
     "name": "stdout",
     "output_type": "stream",
     "text": [
      "# Starting the news.\n",
      "\n",
      "Reading news from new_york_times newspaper.\n"
     ]
    },
    {
     "data": {
      "application/vnd.jupyter.widget-view+json": {
       "model_id": "cf566770db4f440f80791896b57249e3",
       "version_major": 2,
       "version_minor": 0
      },
      "text/plain": [
       "FloatProgress(value=0.0, max=0.0)"
      ]
     },
     "metadata": {},
     "output_type": "display_data"
    },
    {
     "name": "stdout",
     "output_type": "stream",
     "text": [
      "\n",
      "Reading news from mirror newspaper.\n"
     ]
    },
    {
     "data": {
      "application/vnd.jupyter.widget-view+json": {
       "model_id": "f84e28c39f3b4b4787e1c07365b6a32a",
       "version_major": 2,
       "version_minor": 0
      },
      "text/plain": [
       "FloatProgress(value=0.0, max=686.0)"
      ]
     },
     "metadata": {},
     "output_type": "display_data"
    },
    {
     "name": "stdout",
     "output_type": "stream",
     "text": [
      "\n",
      "Reading news from sabah newspaper.\n"
     ]
    },
    {
     "data": {
      "application/vnd.jupyter.widget-view+json": {
       "model_id": "6a00aa12a7e04ac3aeefaf6606a8ab79",
       "version_major": 2,
       "version_minor": 0
      },
      "text/plain": [
       "FloatProgress(value=0.0, max=9.0)"
      ]
     },
     "metadata": {},
     "output_type": "display_data"
    },
    {
     "name": "stdout",
     "output_type": "stream",
     "text": [
      "Time taken to read the newspaper: 646.4291415214539.\n"
     ]
    }
   ],
   "source": [
    "start_time = time.time()\n",
    "\n",
    "print(\"# Starting the news.\")\n",
    "\n",
    "for i in range( 2, len(information)): # skip two albania newspapers\n",
    "    print(\"\\nReading news from {0} newspaper.\".format(information[i]['name']))\n",
    "    sp.store_info(information[i], headers, 3)\n",
    "\n",
    "time_ =  time.time()- start_time\n",
    "start_time= time.time()\n",
    "print(\"Time taken to read the newspaper: {0}.\".format( time_))"
   ]
  },
  {
   "cell_type": "markdown",
   "metadata": {},
   "source": [
    "### Sentiment Analysis using nltk"
   ]
  },
  {
   "cell_type": "code",
   "execution_count": 5,
   "metadata": {},
   "outputs": [],
   "source": [
    "#\n",
    "# Reading data \n",
    "#\n",
    "data = database.child(\"sabah\").child(datetime.today().strftime('%Y-%m-%d')).get()"
   ]
  },
  {
   "cell_type": "code",
   "execution_count": 6,
   "metadata": {},
   "outputs": [
    {
     "name": "stdout",
     "output_type": "stream",
     "text": [
      "\n",
      "417 people dead in Mozambique after Cyclone Idai - Daily Sabah\n",
      "\n",
      "Sentiment: -0.3828733333333334\n",
      "\n",
      "Annual West Bank marathon kicks off to draw attention to Israeli occupation - Daily Sabah\n",
      "\n",
      "Sentiment: 0.23053333333333334\n",
      "\n",
      "Daesh no longer holds any territory in Syria: Pentagon - Daily Sabah\n",
      "\n",
      "Sentiment: -0.44242500000000007\n",
      "\n",
      "Dirty water kills thousands more children in war zones than bombs or bullets: UNICEF - Daily Sabah\n",
      "\n",
      "Sentiment: -0.56215\n",
      "\n",
      "Hundreds of thousands anti-Brexit protesters swarm London streets, demand new vote - Daily Sabah\n",
      "\n",
      "Sentiment: -0.22901111111111108\n",
      "\n",
      "Kazakhstan officially renames capital Astana as Nursultan in honor of Nazarbayev - Daily Sabah\n",
      "\n",
      "Sentiment: -0.17258\n",
      "\n",
      "NZ officials thank Turkish singer for donating concert proceeds to Christchurch victims - Daily Sabah\n",
      "\n",
      "Sentiment: -0.73275\n",
      "\n",
      "Nearly half million show up in grand Ankara rally of People’s Alliance - Daily Sabah\n",
      "\n",
      "Sentiment: 0.328625\n",
      "\n",
      "People form human shield around Stockholm mosque to honor New Zealand victims - Daily Sabah\n",
      "\n",
      "Sentiment: -0.17441666666666666\n",
      "\n",
      "Trump reverses new sanctions on North Korea, because he 'likes' Kim - Daily Sabah\n",
      "\n",
      "Sentiment: -0.06031111111111113\n",
      "\n",
      "Turkey slams Czech President Zeman for slander, false claims - Daily Sabah\n",
      "\n",
      "Sentiment: -0.33768571428571426\n",
      "\n",
      "Turkey starts Euro 2020 qualifying campaign with win over Albania - Daily Sabah\n",
      "\n",
      "Sentiment: 0.78435\n",
      "\n",
      "Turkey to host 300 percent more Indian weddings in 2019 - Daily Sabah\n",
      "\n",
      "Sentiment: 0.08385\n"
     ]
    }
   ],
   "source": [
    "for news in data.each():\n",
    "    print(\"\\n{}\\n\".format(news.key()))\n",
    "    #dw.draw_wordcloud(cln.clean_text(news.val()))\n",
    "    #print(cln.find_features(news.val()))\n",
    "    print(\"Sentiment: {}\".format(an.analyze_text(news.val())))"
   ]
  },
  {
   "cell_type": "code",
   "execution_count": 7,
   "metadata": {},
   "outputs": [],
   "source": [
    "#\n",
    "# Training data for classifier for text analysis\n",
    "#"
   ]
  },
  {
   "cell_type": "code",
   "execution_count": null,
   "metadata": {},
   "outputs": [],
   "source": []
  },
  {
   "cell_type": "code",
   "execution_count": null,
   "metadata": {},
   "outputs": [],
   "source": []
  }
 ],
 "metadata": {
  "kernelspec": {
   "display_name": "Python 3",
   "language": "python",
   "name": "python3"
  },
  "language_info": {
   "codemirror_mode": {
    "name": "ipython",
    "version": 3
   },
   "file_extension": ".py",
   "mimetype": "text/x-python",
   "name": "python",
   "nbconvert_exporter": "python",
   "pygments_lexer": "ipython3",
   "version": "3.7.1"
  }
 },
 "nbformat": 4,
 "nbformat_minor": 2
}
