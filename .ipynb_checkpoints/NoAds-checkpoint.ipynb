{
 "cells": [
  {
   "cell_type": "markdown",
   "metadata": {},
   "source": [
    "## A scraper of main information from some newspaper websites."
   ]
  },
  {
   "cell_type": "code",
   "execution_count": 5,
   "metadata": {},
   "outputs": [],
   "source": [
    "import json\n",
    "import time\n",
    "from datetime import datetime\n",
    "\n",
    "import src.database.functionalities     as db_func\n",
    "import src.data_science.functionalities as ds_func\n",
    "import src.constants.constants as cnsts\n",
    "import src.heavyweight       as hv\n",
    "import src.tools             as tools"
   ]
  },
  {
   "cell_type": "code",
   "execution_count": 6,
   "metadata": {},
   "outputs": [],
   "source": [
    "information = cnsts.information\n",
    "headers     = {\"content-type\":\"text\"}"
   ]
  },
  {
   "cell_type": "markdown",
   "metadata": {},
   "source": [
    "### Parse and store in Firebase"
   ]
  },
  {
   "cell_type": "code",
   "execution_count": 3,
   "metadata": {},
   "outputs": [
    {
     "name": "stdout",
     "output_type": "stream",
     "text": [
      "# Starting the news.\n",
      "\n",
      "Reading news from new_york_times newspaper.\n"
     ]
    },
    {
     "data": {
      "application/vnd.jupyter.widget-view+json": {
       "model_id": "97b7cd264c57413c9cd6b2dfc0a64d07",
       "version_major": 2,
       "version_minor": 0
      },
      "text/plain": [
       "FloatProgress(value=0.0, max=0.0)"
      ]
     },
     "metadata": {},
     "output_type": "display_data"
    },
    {
     "name": "stdout",
     "output_type": "stream",
     "text": [
      "\n",
      "Reading news from mirror newspaper.\n"
     ]
    },
    {
     "data": {
      "application/vnd.jupyter.widget-view+json": {
       "model_id": "0cd08b557bfb4a37a60a2cb5dbda7dbb",
       "version_major": 2,
       "version_minor": 0
      },
      "text/plain": [
       "FloatProgress(value=0.0, max=8.0)"
      ]
     },
     "metadata": {},
     "output_type": "display_data"
    },
    {
     "name": "stdout",
     "output_type": "stream",
     "text": [
      "\n",
      "Reading news from sabah newspaper.\n"
     ]
    },
    {
     "data": {
      "application/vnd.jupyter.widget-view+json": {
       "model_id": "db4d5bb9f68f401ba005be73f71a039f",
       "version_major": 2,
       "version_minor": 0
      },
      "text/plain": [
       "FloatProgress(value=0.0, max=9.0)"
      ]
     },
     "metadata": {},
     "output_type": "display_data"
    },
    {
     "name": "stdout",
     "output_type": "stream",
     "text": [
      "Time taken to read the newspaper: 36.15051817893982.\n"
     ]
    }
   ],
   "source": [
    "start_time = time.time()\n",
    "\n",
    "print(\"# Starting the news.\")\n",
    "for i in range( 2, len(information)): # skip two albania newspapers\n",
    "    print(\"\\nReading news from {0} newspaper.\".format(information[i]['name']))\n",
    "    hv.store_info(information[i], headers, 3)\n",
    "\n",
    "time_ =  time.time()- start_time\n",
    "start_time= time.time()\n",
    "print(\"Time taken to read the newspaper: {0}.\".format( time_))"
   ]
  },
  {
   "cell_type": "markdown",
   "metadata": {},
   "source": [
    "### Sentiment Analysis using nltk"
   ]
  },
  {
   "cell_type": "code",
   "execution_count": 9,
   "metadata": {},
   "outputs": [],
   "source": [
    "#\n",
    "# Reading data \n",
    "#\n",
    "data = list(db_func.retrieve(\"sabah\").items())"
   ]
  },
  {
   "cell_type": "code",
   "execution_count": 12,
   "metadata": {},
   "outputs": [
    {
     "data": {
      "text/plain": [
       "(\"'Sophisticated' tanker attacks likely the work of a state actor, UAE says, refrains mentioning Iran - Daily Sabah\",\n",
       " ' Initial findings of an investigation led by the United Arab Emirates (UAE) of the May 12 attacks on oil tankers point to the likelihood that a state was behind the bombings, but there is no evidence yet that Iran was involved, the UAE said Friday.In a document on the U.N. briefing, the UAE, joined by Norway and Saudi Arabia, did not say who they believed was behind the attacks, and they did not mention Iran. The U.S. has accused Iran of being behind the attacks on the four oil tankers off the Emirati coast, which came at a time of escalating tensions between Tehran and Washington. The four vessels – two Saudi-flagged, a Norwegian-flagged and an Emirati-flagged – were damaged by explosions that took place within UAE territorial waters, off the port of Fujairah.Iran has rejected accusations that it was behind the sabotage, and diplomats said there was no mention of Iran\\'s possible role during the briefing by the UAE. Saudi Arabia, Iran\\'s archrival, told reporters that Tehran was nevertheless the most likely culprit. \"We believe the responsibility for this attack lies on the shoulders of Iran,\" Saudi Arabia\\'s U.N. Ambassador Abdallah al-Mouallimi told reporters after the briefing.After assessing the damage and carrying out chemical analysis, the UAE told the council that the attacks were sophisticated and of the type most likely carried out by state services. \"While investigations are still ongoing, these facts are strong indications that the four attacks were part of a sophisticated and coordinated operation carried out by an actor with significant operational capacity, most likely a state actor,\" said a statement from the UAE, Saudi Arabia and Norway. The preliminary findings showed that it was \"highly likely\" that four Limpet mines, which are magnetically attached to a ship\\'s hull, were used in the attacks and placed by trained divers who were deployed from fast boats.The oil route has become central to the mounting tensions between the U.S. and Iran. Lately, in July 2018, Iranian President Hassan Rouhani hinted that Iran could disrupt oil flows through the strait in response to U.S. calls to reduce Iran\\'s oil exports to zero. A Revolutionary Guards commander also said Iran would block all exports through the strait if Iranian exports were stopped.The U.S. has already strengthened its military presence in the region, including deploying a number of strategic B-52 bombers in response to alleged Iranian threats. Last month, the U.S. also sent the USS Abraham Lincoln aircraft carrier to the Persian Gulf in response to unspecified threats by Iran, and Iran threatened to renew some nuclear enrichment that had been halted under the 2015 nuclear deal.Relations between Tehran and Washington took a turn for the worse last May when U.S. President Donald Trump pulled out of a 2015 nuclear deal between Iran and six world powers and reimposed sanctions. Washington tightened sanctions on Iran this month, eliminating waivers that had allowed some countries to buy its oil, with the goal of reducing Tehran\\'s crude exports to zero. Iran has responded by scaling back some curbs on its nuclear program, although it remains compliant with a deal to restrict its nuclear activity, which Washington abandoned a year ago. The U.S. administration also blacklisted Iran\\'s elite Revolutionary Guard Corps as a terrorist organization. In a tit-for-tat response to Washington\\'s decision, Iran accused the U.S. government of supporting terrorism and recognized U.S. Central Command (CENTCOM) as a terrorist organization and vowed to take action against U.S. forces in the region.')"
      ]
     },
     "execution_count": 12,
     "metadata": {},
     "output_type": "execute_result"
    }
   ],
   "source": [
    "data[0]"
   ]
  },
  {
   "cell_type": "code",
   "execution_count": 15,
   "metadata": {},
   "outputs": [
    {
     "name": "stdout",
     "output_type": "stream",
     "text": [
      "\n",
      "'Sophisticated' tanker attacks likely the work of a state actor, UAE says, refrains mentioning Iran - Daily Sabah\n",
      "\n"
     ]
    },
    {
     "ename": "AttributeError",
     "evalue": "module 'src.heavyweight' has no attribute 'analyze_text'",
     "output_type": "error",
     "traceback": [
      "\u001b[0;31m---------------------------------------------------------------------------\u001b[0m",
      "\u001b[0;31mAttributeError\u001b[0m                            Traceback (most recent call last)",
      "\u001b[0;32m<ipython-input-15-0f468d798183>\u001b[0m in \u001b[0;36m<module>\u001b[0;34m\u001b[0m\n\u001b[1;32m      3\u001b[0m     \u001b[0;31m#tools.draw_wordcloud(tools.clean_text( news.val()))\u001b[0m\u001b[0;34m\u001b[0m\u001b[0;34m\u001b[0m\u001b[0;34m\u001b[0m\u001b[0m\n\u001b[1;32m      4\u001b[0m     \u001b[0;31m#print(cln.find_features(news.val()))\u001b[0m\u001b[0;34m\u001b[0m\u001b[0;34m\u001b[0m\u001b[0;34m\u001b[0m\u001b[0m\n\u001b[0;32m----> 5\u001b[0;31m     \u001b[0mprint\u001b[0m\u001b[0;34m(\u001b[0m\u001b[0;34m\"Sentiment: {}\"\u001b[0m\u001b[0;34m.\u001b[0m\u001b[0mformat\u001b[0m\u001b[0;34m(\u001b[0m\u001b[0mhv\u001b[0m\u001b[0;34m.\u001b[0m\u001b[0manalyze_text\u001b[0m\u001b[0;34m(\u001b[0m\u001b[0mnews\u001b[0m\u001b[0;34m[\u001b[0m\u001b[0;36m1\u001b[0m\u001b[0;34m]\u001b[0m\u001b[0;34m)\u001b[0m\u001b[0;34m)\u001b[0m\u001b[0;34m)\u001b[0m\u001b[0;34m\u001b[0m\u001b[0;34m\u001b[0m\u001b[0m\n\u001b[0m",
      "\u001b[0;31mAttributeError\u001b[0m: module 'src.heavyweight' has no attribute 'analyze_text'"
     ]
    }
   ],
   "source": [
    "for news in data:\n",
    "    print(\"\\n{}\\n\".format(news[0]))\n",
    "    #tools.draw_wordcloud(tools.clean_text( news.val()))\n",
    "    #print(cln.find_features(news.val()))\n",
    "    print(\"Sentiment: {}\".format(hv.analyze_text(news[1])))"
   ]
  },
  {
   "cell_type": "code",
   "execution_count": null,
   "metadata": {},
   "outputs": [],
   "source": [
    "#\n",
    "# Training data for classifier for text analysis\n",
    "#"
   ]
  },
  {
   "cell_type": "code",
   "execution_count": null,
   "metadata": {},
   "outputs": [],
   "source": []
  },
  {
   "cell_type": "code",
   "execution_count": null,
   "metadata": {},
   "outputs": [],
   "source": []
  }
 ],
 "metadata": {
  "kernelspec": {
   "display_name": "Python 3",
   "language": "python",
   "name": "python3"
  },
  "language_info": {
   "codemirror_mode": {
    "name": "ipython",
    "version": 3
   },
   "file_extension": ".py",
   "mimetype": "text/x-python",
   "name": "python",
   "nbconvert_exporter": "python",
   "pygments_lexer": "ipython3",
   "version": "3.6.8"
  }
 },
 "nbformat": 4,
 "nbformat_minor": 2
}
